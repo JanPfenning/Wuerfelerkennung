{
  "nbformat": 4,
  "nbformat_minor": 0,
  "metadata": {
    "colab": {
      "name": "EndToEndClassification.ipynb",
      "provenance": [],
      "collapsed_sections": []
    },
    "kernelspec": {
      "name": "python3",
      "display_name": "Python 3"
    },
    "language_info": {
      "name": "python"
    }
  },
  "cells": [
    {
      "cell_type": "code",
      "source": [
        "import cv2\n",
        "import numpy as np\n",
        "from google.colab.patches import cv2_imshow as imshow\n",
        "import math\n",
        "from google.colab import drive\n",
        "from matplotlib import pyplot as plt"
      ],
      "metadata": {
        "id": "bmBpGHTTKzXM"
      },
      "execution_count": null,
      "outputs": []
    },
    {
      "cell_type": "code",
      "source": [
        "#drive.mount('/content/drive')\n",
        "\n",
        "#!mkdir /content/images/\n",
        "#!unzip /content/drive/MyDrive/Colab\\ Notebooks/simple.zip -d /content/images/\n",
        "\n",
        "#!mkdir /content/images/simple/train\n",
        "#!unzip /content/images/simple/train.zip -d /content/images/simple/train\n",
        "\n",
        "#!unzip /content/drive/MyDrive/Colab\\ Notebooks/hard.zip -d /content/images/"
      ],
      "metadata": {
        "id": "kpUFEt8-9Hk2"
      },
      "execution_count": null,
      "outputs": []
    },
    {
      "cell_type": "markdown",
      "source": [
        "# Functions Localization with Contours\n",
        "\n"
      ],
      "metadata": {
        "id": "jtwa6UIAX3o0"
      }
    },
    {
      "cell_type": "code",
      "source": [
        "# import the necessary packages\n",
        "import numpy as np\n",
        "# Malisiewicz et al.\n",
        "def non_max_suppression_fast(boxes, overlapThresh):\n",
        "\t# if there are no boxes, return an empty list\n",
        "\tif len(boxes) == 0:\n",
        "\t\treturn []\n",
        "\t# if the bounding boxes integers, convert them to floats --\n",
        "\t# this is important since we'll be doing a bunch of divisions\n",
        "\tif boxes.dtype.kind == \"i\":\n",
        "\t\tboxes = boxes.astype(\"float\")\n",
        "\t# initialize the list of picked indexes\t\n",
        "\tpick = []\n",
        "\t# grab the coordinates of the bounding boxes\n",
        "\tx1 = boxes[:,0]\n",
        "\ty1 = boxes[:,1]\n",
        "\tx2 = boxes[:,2]\n",
        "\ty2 = boxes[:,3]\n",
        "\t# compute the area of the bounding boxes and sort the bounding\n",
        "\t# boxes by the bottom-right y-coordinate of the bounding box\n",
        "\tarea = (x2 - x1 + 1) * (y2 - y1 + 1)\n",
        "\tidxs = np.argsort(y2)\n",
        "\t#print(x1, y1, x2, y2)\n",
        "\t# keep looping while some indexes still remain in the indexes\n",
        "\t# list\n",
        "\twhile len(idxs) > 0:\n",
        "\t\t# grab the last index in the indexes list and add the\n",
        "\t\t# index value to the list of picked indexes\n",
        "\t\tlast = len(idxs) - 1\n",
        "\t\ti = idxs[last]\n",
        "\t\tpick.append(i)\n",
        "\t\t# find the largest (x, y) coordinates for the start of\n",
        "\t\t# the bounding box and the smallest (x, y) coordinates\n",
        "\t\t# for the end of the bounding box\n",
        "\t\txx1 = np.maximum(x1[i], x1[idxs[:last]])\n",
        "\t\tyy1 = np.maximum(y1[i], y1[idxs[:last]])\n",
        "\t\txx2 = np.minimum(x2[i], x2[idxs[:last]])\n",
        "\t\tyy2 = np.minimum(y2[i], y2[idxs[:last]])\n",
        "\t\t# compute the width and height of the bounding box\n",
        "\t\tw = np.maximum(0, xx2 - xx1 + 1)\n",
        "\t\th = np.maximum(0, yy2 - yy1 + 1)\n",
        "\t\t# compute the ratio of overlap\n",
        "\t\toverlap = (w * h) / area[idxs[:last]]\n",
        "\t\t# delete all indexes from the index list that have\n",
        "\t\tidxs = np.delete(idxs, np.concatenate(([last],\n",
        "\t\t\tnp.where(overlap > overlapThresh)[0])))\n",
        "\t# return only the bounding boxes that were picked using the\n",
        "\t# integer data type\n",
        "\treturn boxes[pick].astype(\"int\")"
      ],
      "metadata": {
        "id": "wtScayXOQa6p"
      },
      "execution_count": null,
      "outputs": []
    },
    {
      "cell_type": "code",
      "execution_count": null,
      "metadata": {
        "id": "BVQekip7Ke29"
      },
      "outputs": [],
      "source": [
        "def boxByContours(canny):\n",
        "  contours, hierarchy = cv2.findContours(canny,cv2.RETR_LIST,cv2.CHAIN_APPROX_SIMPLE)\n",
        "  i = 0\n",
        "  boxes = []\n",
        "  for cnt in contours:\n",
        "      i += 1\n",
        "      x,y,w,h = cv2.boundingRect(cnt)\n",
        "      #roi = src[y:y+h,x:x+w]\n",
        "      boxes.append([x,y,x+w,y+h])\n",
        "        #imshow(cv2.resize(roi, (128,128)))\n",
        "      #cv2.imwrite(\"/content/\"+str(idx) + '.jpg', roi) #Persist roi\n",
        "      #cv2.rectangle(im,(x,y),(x+w,y+h),(200,0,0),2) #Draw rectangle boundingbox\n",
        "  return boxes"
      ]
    },
    {
      "cell_type": "code",
      "source": [
        "def preprocess_canny(src_img):\n",
        "  edges = cv2.Canny(src_img,100,200)\n",
        "  return edges"
      ],
      "metadata": {
        "id": "2Xvu6gOiRzvt"
      },
      "execution_count": null,
      "outputs": []
    },
    {
      "cell_type": "markdown",
      "source": [
        "# Example Localisation with Contours"
      ],
      "metadata": {
        "id": "WgzJRxLTRakT"
      }
    },
    {
      "cell_type": "code",
      "source": [
        "src_img = cv2.imread(\"/content/images/simple/train/IMG_20211121_215900.jpg\")\n",
        "canny = preprocess_canny(src_img)\n",
        "imshow(canny)\n",
        "\"\"\"\n",
        "lines = cv2.HoughLines(canny,10,np.pi/90,200)\n",
        "print(lines)\n",
        "for rho,theta in lines[0]:\n",
        "    a = np.cos(theta)\n",
        "    b = np.sin(theta)\n",
        "    x0 = a*rho\n",
        "    y0 = b*rho\n",
        "    x1 = int(x0 + 1000*(-b))\n",
        "    y1 = int(y0 + 1000*(a))\n",
        "    x2 = int(x0 - 1000*(-b))\n",
        "    y2 = int(y0 - 1000*(a))\n",
        "\n",
        "    cv2.line(src_img,(x1,y1),(x2,y2),(0,0,255),2)\n",
        "\n",
        "cv2.imwrite('houghlines3.jpg',src_img)\n",
        "\"\"\"\n",
        "boxes = boxByContours(canny)\n",
        "print(len(boxes))\n",
        "boxes = non_max_suppression_fast(np.asarray(boxes), 0.01)\n",
        "i=0\n",
        "for box in boxes:\n",
        "  i+=1\n",
        "  imshow(src_img[box[1]:box[3],box[0]:box[2]])"
      ],
      "metadata": {
        "id": "UMzhHB-ULFlt"
      },
      "execution_count": null,
      "outputs": []
    },
    {
      "cell_type": "markdown",
      "source": [
        "# Region Fill Functions"
      ],
      "metadata": {
        "id": "VWqbP9BVaZKR"
      }
    },
    {
      "cell_type": "code",
      "source": [
        "def erode(size, bin_img):\n",
        "  kernel = np.ones((size, size), np.uint8)\n",
        "  return cv2.erode(bin_img, kernel)\n",
        "\n",
        "def dilate(size, bin_img):\n",
        "  kernel = np.ones((size, size), np.uint8)\n",
        "  return cv2.dilate(bin_img, kernel)\n",
        "\n",
        "def open(size, bin_img):\n",
        "  return dilate(size, erode(size, bin_img))\n",
        "\n",
        "def close(size, bin_img):\n",
        "  return erode(size, dilate(size, bin_img))"
      ],
      "metadata": {
        "id": "9iDLXyqVac-I"
      },
      "execution_count": null,
      "outputs": []
    },
    {
      "cell_type": "code",
      "metadata": {
        "id": "OVr7sBQmwySM"
      },
      "source": [
        "from skimage.segmentation import flood, flood_fill\n",
        "\n",
        "def get_box_of_bin(bin_image): # Expects a black image with exactly one white area that represents a dice  \n",
        "  xmin = np.inf\n",
        "  xmax = -np.inf\n",
        "  ymin = np.inf\n",
        "  ymax = -np.inf\n",
        "  \n",
        "  for idy, y in enumerate(bin_image):\n",
        "    for idx, x in enumerate(y):\n",
        "      if(x == 255):\n",
        "        xmin = (idx if idx<xmin else xmin)\n",
        "        xmax = (idx if idx>xmax else xmax)\n",
        "        ymin = (idy if idy<ymin else ymin)\n",
        "        ymax = (idy if idy>ymax else ymax)\n",
        "  return xmin, ymin, xmax, ymax\n",
        "\n",
        "def fill(bin_image):  # Removes One Dice from the Image\n",
        "  for idy, y in enumerate(bin_image):\n",
        "    for idx, x in enumerate(y):\n",
        "      if(x == 255): # Find first white Pixel\n",
        "        flooded = flood_fill(bin_image, (idy, idx), 0) # Fill that area connected to the pixel\n",
        "        xmin, ymin, xmax, ymax = get_box_of_bin(bin_image - flooded) # Find the Area that was flooded to\n",
        "        return flooded, [xmin, ymin, xmax, ymax]\n",
        "  return 0, []\n",
        "\n",
        "def get_white_boxes(bin_img): # Finds all white Boxes in the Image\n",
        "  filler = bin_img\n",
        "  boxes = []\n",
        "  while not isinstance(filler, int):\n",
        "    flooded, box = fill(filler)\n",
        "    filler = flooded\n",
        "    if(len(box)==4 and box[0]<box[2] and box[1]<box[3]):\n",
        "      boxes.append(box)\n",
        "\n",
        "  return boxes"
      ],
      "execution_count": null,
      "outputs": []
    },
    {
      "cell_type": "code",
      "metadata": {
        "id": "WvMsneeuF4lO"
      },
      "source": [
        "# Recursive Wrapper for the Boxes to make it possible to give more chances of correct opening, closing or other preprocessing\n",
        "# Returns xmin, ymin, xmax, ymax \n",
        "def seperate_bin_areas(size, bin_img, seperator_f=None, i=0): \n",
        "  boxes = get_white_boxes(bin_img)\n",
        "  dice_count = len(boxes)\n",
        "  if dice_count == 5:\n",
        "    return boxes\n",
        "  elif i >= 5: #If the Recursion Depth is greater than 5 \n",
        "    raise\n",
        "  elif dice_count > 5:\n",
        "    return seperate_bin_areas(np.ceil(size*1.25), bin_img, seperator_f=close, i=i+1)\n",
        "  else:\n",
        "    s = np.floor(size*1.25)\n",
        "    return seperate_bin_areas((2 if s<2 else s), bin_img, seperator_f=open, i=i+1)"
      ],
      "execution_count": null,
      "outputs": []
    },
    {
      "cell_type": "code",
      "source": [
        "# Reads the Image and converts it to Binary for binary_segmentation\n",
        "def preprocess(src_image, blur=False):\n",
        "  #src = cv2.imread(path)\n",
        "  img_grey = cv2.cvtColor(src_image, cv2.COLOR_RGB2GRAY)\n",
        "  if blur:\n",
        "    img_grey = cv2.GaussianBlur(img_grey,(5,5),0)\n",
        "  thresh, bin_img = cv2.threshold(img_grey,0,255,cv2.THRESH_BINARY+cv2.THRESH_OTSU)\n",
        "  return bin_img"
      ],
      "metadata": {
        "id": "AsaTduY_oxuA"
      },
      "execution_count": null,
      "outputs": []
    },
    {
      "cell_type": "markdown",
      "source": [
        "# Load Model"
      ],
      "metadata": {
        "id": "rkwDmFmN4WyL"
      }
    },
    {
      "cell_type": "code",
      "source": [
        "from tensorflow import keras\n",
        "!unzip /content/small_cnn_100_epoch.zip -d /content/model\n",
        "model = keras.models.load_model(\"/content/model/content/small_cnn_100_epoch\")"
      ],
      "metadata": {
        "colab": {
          "base_uri": "https://localhost:8080/"
        },
        "id": "--g_OgsXWqPj",
        "outputId": "bbed9d3e-7a53-43cc-f407-c2051c61ccd3"
      },
      "execution_count": null,
      "outputs": [
        {
          "output_type": "stream",
          "name": "stdout",
          "text": [
            "Archive:  /content/small_cnn_100_epoch.zip\n",
            "   creating: /content/model/content/small_cnn_100_epoch/\n",
            "  inflating: /content/model/content/small_cnn_100_epoch/keras_metadata.pb  \n",
            "   creating: /content/model/content/small_cnn_100_epoch/variables/\n",
            "  inflating: /content/model/content/small_cnn_100_epoch/variables/variables.index  \n",
            "  inflating: /content/model/content/small_cnn_100_epoch/variables/variables.data-00000-of-00001  \n",
            "   creating: /content/model/content/small_cnn_100_epoch/assets/\n",
            "  inflating: /content/model/content/small_cnn_100_epoch/saved_model.pb  \n"
          ]
        }
      ]
    },
    {
      "cell_type": "markdown",
      "source": [
        "# Example of Region Fill Segmentation"
      ],
      "metadata": {
        "id": "QRlIGt1AYN6U"
      }
    },
    {
      "cell_type": "code",
      "source": [
        "src_img = cv2.imread(\"/content/images/simple/train/IMG_20211121_215900.jpg\")\n",
        "bin_img = preprocess(src_img)\n",
        "#plt.imshow(bin_img, cmap='gray')\n",
        "boxes = seperate_bin_areas(4, bin_img)\n",
        "print(boxes)\n",
        "box = boxes[4]\n",
        "plt.imshow(cv2.resize(src_img[box[1]:box[3], box[0]:box[2]], (28,28)), cmap='gray')\n"
      ],
      "metadata": {
        "id": "anFsIdZ-lAWM"
      },
      "execution_count": null,
      "outputs": []
    },
    {
      "cell_type": "code",
      "source": [
        "feed_forward(cv2.resize(src_img[box[1]:box[3], box[0]:box[2]], (28,28)), model)"
      ],
      "metadata": {
        "id": "AFJXBuwbF15w"
      },
      "execution_count": null,
      "outputs": []
    },
    {
      "cell_type": "markdown",
      "source": [
        "# End to End Pipeline Image to Boxes and Classe"
      ],
      "metadata": {
        "id": "F-VLSI7MX_Y9"
      }
    },
    {
      "cell_type": "code",
      "source": [
        "def get_boxes(input_img, function=\"binary\"):\n",
        "  boxes = []\n",
        "  if function==\"binary\":\n",
        "    bin_img = preprocess(input_img)\n",
        "    return seperate_bin_areas(4, bin_img)\n",
        "  elif function==\"contours\":\n",
        "    canny = preprocess_canny(input_img)\n",
        "    #canny = cv2.HoughLines(canny,1,np.pi/180,200)\n",
        "    boxes = boxByContours(canny)\n",
        "    boxes = non_max_suppression_fast(np.asarray(boxes), 0.8)\n",
        "    return boxes"
      ],
      "metadata": {
        "id": "lFVJglhxXESS"
      },
      "execution_count": null,
      "outputs": []
    },
    {
      "cell_type": "code",
      "source": [
        "global timers\n",
        "timers = []\n",
        "def feed_forward(dice_img, model):\n",
        "  equisized = cv2.resize(dice_img, (28,28))#Todo view\n",
        "  monochromed = cv2.cvtColor(equisized, cv2.COLOR_BGR2GRAY) # Color doesnt matter for dices\n",
        "  normalized = monochromed / 255.0 # Normalize pixel values to be between 0 and 1 \n",
        "  prediction = model.predict(normalized.reshape(1,28,28,-1))\n",
        "  return prediction\n",
        "\n",
        "#Returns List with 5 tuples like (box, eyes); Expected to be one for each dice\n",
        "def predict(src_image, model):\n",
        "  eyes = []\n",
        "  boxes = []\n",
        "\n",
        "  \"\"\"Get Boxes\"\"\"\n",
        "  start = time.time()\n",
        "  boxes = get_boxes(src_image, function=\"binary\") # Throws error if Could not identify 5 Boxes\n",
        "  end = time.time()\n",
        "  timers.append(end-start)\n",
        "\n",
        "  \"\"\"For each Box, predict Eyes\"\"\"\n",
        "  for idx, box in enumerate(boxes):\n",
        "    dice_img = src_image[box[1]:box[3], box[0]:box[2]]\n",
        "    class_prediction = feed_forward(dice_img, model)\n",
        "    eyes.append(np.argmax(class_prediction))\n",
        "    #imshow(dice_img)\n",
        "  \n",
        "  return ((boxes[0],eyes[0]),\n",
        "          (boxes[1],eyes[1]),\n",
        "          (boxes[2],eyes[2]),\n",
        "          (boxes[3],eyes[3]),\n",
        "          (boxes[4],eyes[4]))"
      ],
      "metadata": {
        "id": "AfjIdM3AdveA"
      },
      "execution_count": null,
      "outputs": []
    },
    {
      "cell_type": "markdown",
      "source": [
        "# Evaluation Pipeline"
      ],
      "metadata": {
        "id": "KU7_B8M0ZqBC"
      }
    },
    {
      "cell_type": "code",
      "source": [
        "import pandas as pd\n",
        "import time\n",
        "df = pd.read_pickle(\"/content/simple-train-cropped.pkl\")\n",
        "imshow(df.iloc[26].img)\n",
        "predict(df.iloc[26].img, model)"
      ],
      "metadata": {
        "colab": {
          "base_uri": "https://localhost:8080/",
          "height": 178
        },
        "id": "GGd8P0m4ZuBe",
        "outputId": "bffb8823-5bbd-4326-bedb-8ad546b298aa"
      },
      "execution_count": null,
      "outputs": [
        {
          "output_type": "display_data",
          "data": {
            "image/png": "[encoded data removed]",
            "text/plain": [
              "<PIL.Image.Image image mode=RGB size=192x144 at 0x7FB2FA41EED0>"
            ]
          },
          "metadata": {}
        },
        {
          "output_type": "stream",
          "name": "stdout",
          "text": [
            "0.7293448448181152\n"
          ]
        }
      ]
    },
    {
      "cell_type": "code",
      "source": [
        "# Amount of Images with not 5 Boxes\n",
        "boxes = []\n",
        "not_five_boxes = 0\n",
        "times = []\n",
        "for image_name in df.name.unique():\n",
        "  single_image = df[df[\"name\"] == image_name].iloc[0]\n",
        "  try:\n",
        "    #print(\"next Dice\")\n",
        "    #start = time.time()\n",
        "    boxes.append(predict(single_image.img, model))\n",
        "    #end = time.time()\n",
        "    #times.append(end-start)\n",
        "  except Exception as e:\n",
        "    print(e)\n",
        "\n",
        "print(not_five_boxes)\n",
        "print(np.average(timers))"
      ],
      "metadata": {
        "colab": {
          "base_uri": "https://localhost:8080/"
        },
        "id": "1SBWa-GQ6NRo",
        "outputId": "b7b9dd15-7cb2-438c-8676-e0d637d4dad0"
      },
      "execution_count": null,
      "outputs": [
        {
          "output_type": "stream",
          "name": "stdout",
          "text": [
            "No active exception to reraise\n",
            "No active exception to reraise\n",
            "No active exception to reraise\n",
            "No active exception to reraise\n",
            "No active exception to reraise\n",
            "No active exception to reraise\n",
            "No active exception to reraise\n",
            "0\n",
            "0.3618386766184931\n"
          ]
        }
      ]
    },
    {
      "cell_type": "code",
      "source": [
        "len(test_df.name.unique())"
      ],
      "metadata": {
        "colab": {
          "base_uri": "https://localhost:8080/"
        },
        "id": "lr9Rd2bx6TAs",
        "outputId": "6a639444-d4fb-4b16-aaac-87693a1d1fd5"
      },
      "execution_count": null,
      "outputs": [
        {
          "output_type": "execute_result",
          "data": {
            "text/plain": [
              "32"
            ]
          },
          "metadata": {},
          "execution_count": 150
        }
      ]
    },
    {
      "cell_type": "code",
      "source": [
        "len(boxes)"
      ],
      "metadata": {
        "colab": {
          "base_uri": "https://localhost:8080/"
        },
        "id": "MCYKqF_aDKEF",
        "outputId": "8dc3ba32-6629-47c1-8ef2-f1157da02f3d"
      },
      "execution_count": null,
      "outputs": [
        {
          "output_type": "execute_result",
          "data": {
            "text/plain": [
              "32"
            ]
          },
          "metadata": {},
          "execution_count": 151
        }
      ]
    },
    {
      "cell_type": "code",
      "source": [
        "plt.plot(timers)"
      ],
      "metadata": {
        "id": "vhioxRtVljmk",
        "colab": {
          "base_uri": "https://localhost:8080/",
          "height": 282
        },
        "outputId": "96da6bbc-0576-4684-a80b-e6e9a9b50b6c"
      },
      "execution_count": null,
      "outputs": [
        {
          "output_type": "execute_result",
          "data": {
            "text/plain": [
              "[<matplotlib.lines.Line2D at 0x7fb2f74e4590>]"
            ]
          },
          "metadata": {},
          "execution_count": 55
        },
        {
          "output_type": "display_data",
          "data": {
            "image/png": "[encoded data removed]",
            "text/plain": [
              "<Figure size 432x288 with 1 Axes>"
            ]
          },
          "metadata": {
            "needs_background": "light"
          }
        }
      ]
    },
    {
      "cell_type": "code",
      "source": [
        "np.average(timers)"
      ],
      "metadata": {
        "colab": {
          "base_uri": "https://localhost:8080/"
        },
        "id": "S4ZU-ivhEyYs",
        "outputId": "9e63903a-b558-4271-eec3-15921ecc3eda"
      },
      "execution_count": null,
      "outputs": [
        {
          "output_type": "execute_result",
          "data": {
            "text/plain": [
              "0.3618386766184931"
            ]
          },
          "metadata": {},
          "execution_count": 58
        }
      ]
    },
    {
      "cell_type": "code",
      "source": [
        "!df -h"
      ],
      "metadata": {
        "id": "2v4gQqSTE1Jr"
      },
      "execution_count": null,
      "outputs": []
    },
    {
      "cell_type": "code",
      "source": [
        "!cat /proc/cpuinfo"
      ],
      "metadata": {
        "id": "b22RpLvifTVt"
      },
      "execution_count": null,
      "outputs": []
    },
    {
      "cell_type": "code",
      "source": [
        ""
      ],
      "metadata": {
        "id": "uv5-wntWfXIi"
      },
      "execution_count": null,
      "outputs": []
    }
  ]
}