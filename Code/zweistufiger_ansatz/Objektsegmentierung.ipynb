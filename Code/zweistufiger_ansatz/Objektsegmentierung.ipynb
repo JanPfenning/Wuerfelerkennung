{
  "nbformat": 4,
  "nbformat_minor": 0,
  "metadata": {
    "interpreter": {
      "hash": "2d0c8e24375848d974f28cb686cc5af7830d4f44278884b1ad3b36f1a21058f5"
    },
    "kernelspec": {
      "display_name": "Python 3.9.7 64-bit",
      "language": "python",
      "name": "python3"
    },
    "language_info": {
      "codemirror_mode": {
        "name": "ipython",
        "version": 3
      },
      "file_extension": ".py",
      "mimetype": "text/x-python",
      "name": "python",
      "nbconvert_exporter": "python",
      "pygments_lexer": "ipython3",
      "version": "3.9.7"
    },
    "orig_nbformat": 4,
    "colab": {
      "name": "Objektsegmentierung.ipynb",
      "provenance": [],
      "collapsed_sections": []
    }
  },
  "cells": [
    {
      "cell_type": "code",
      "metadata": {
        "id": "FkdTgT1CGVW8"
      },
      "source": [
        "import cv2\n",
        "import numpy as np\n",
        "from google.colab.patches import cv2_imshow as imshow\n",
        "import math"
      ],
      "execution_count": null,
      "outputs": []
    },
    {
      "cell_type": "code",
      "metadata": {
        "id": "ZXoh_v2yHhpm"
      },
      "source": [
        "#from google.colab import drive\n",
        "#drive.mount('/content/drive')\n",
        "\n",
        "#!mkdir /content/images/\n",
        "#!unzip /content/drive/MyDrive/Colab\\ Notebooks/data_fullsize.zip -d /content/images/"
      ],
      "execution_count": null,
      "outputs": []
    },
    {
      "cell_type": "code",
      "metadata": {
        "id": "m-Y0gfV8fsbo"
      },
      "source": [
        "def erode(size, bin_img):\n",
        "  kernel = np.ones((size, size), np.uint8)\n",
        "  return cv2.erode(bin_img, kernel)\n",
        "\n",
        "def dilate(size, bin_img):\n",
        "  kernel = np.ones((size, size), np.uint8)\n",
        "  return cv2.dilate(bin_img, kernel)\n",
        "\n",
        "def open(size, bin_img):\n",
        "  return dilate(size, erode(size, bin_img))\n",
        "\n",
        "def close(size, bin_img):\n",
        "  return erode(size, dilate(size, bin_img))"
      ],
      "execution_count": null,
      "outputs": []
    },
    {
      "cell_type": "code",
      "metadata": {
        "id": "OVr7sBQmwySM"
      },
      "source": [
        "from skimage.segmentation import flood, flood_fill\n",
        "\n",
        "def get_box_of_bin(bin_image):\n",
        "  xmin = np.inf\n",
        "  xmax = -np.inf\n",
        "  ymin = np.inf\n",
        "  ymax = -np.inf\n",
        "  \n",
        "  for idy, y in enumerate(bin_image):\n",
        "    for idx, x in enumerate(y):\n",
        "      if(x == 255):\n",
        "        xmin = (idx if idx<xmin else xmin)\n",
        "        xmax = (idx if idx>xmax else xmax)\n",
        "        ymin = (idy if idy<ymin else ymin)\n",
        "        ymax = (idy if idy>ymax else ymax)\n",
        "  return xmin, ymin, xmax, ymax\n",
        "\n",
        "def fill(bin_image):\n",
        "  for idy, y in enumerate(bin_image):\n",
        "    for idx, x in enumerate(y):\n",
        "      if(x == 255):\n",
        "        flooded = flood_fill(bin_image, (idy, idx), 0)\n",
        "        xmin, ymin, xmax, ymax = get_box_of_bin(bin_image - flooded)\n",
        "        diff = bin_image-flooded\n",
        "        return flooded, [xmin, ymin, xmax, ymax]\n",
        "  return 0, []\n",
        "\n",
        "def get_white_boxes(bin_img):\n",
        "  filler = bin_img\n",
        "  boxes = []\n",
        "  while not isinstance(filler, int):\n",
        "    flooded, box = fill(filler)\n",
        "    filler = flooded\n",
        "    if(len(box)==4 and box[0]<box[2] and box[1]<box[3]):\n",
        "      boxes.append(box)\n",
        "\n",
        "  return boxes"
      ],
      "execution_count": null,
      "outputs": []
    },
    {
      "cell_type": "code",
      "metadata": {
        "id": "WvMsneeuF4lO"
      },
      "source": [
        "def seperate_bin_areas(seperator, size, bin_img, i):\n",
        "  boxes = get_white_boxes(bin_img)\n",
        "  dice_count = len(boxes)\n",
        "  if dice_count == 5 or i >= 5:\n",
        "    return boxes\n",
        "  elif dice_count > 5:\n",
        "    return seperate_bin_areas(close, np.ceil(size*1.25), bin_img, i+1)\n",
        "  else:\n",
        "    s = np.floor(size*1.25)\n",
        "    return seperate_bin_areas(open, (2 if s<2 else s), bin_img, i+1)"
      ],
      "execution_count": null,
      "outputs": []
    },
    {
      "cell_type": "code",
      "metadata": {
        "id": "M-UUhQ1-xjw_"
      },
      "source": [
        "import os\n",
        "!mkdir /content/singledice/\n",
        "basedir = r\"/content/images/simple\"\n",
        "for file in os.listdir(basedir):\n",
        "    if file.endswith(\".jpg\"):\n",
        "        filename = os.path.join(basedir, file)\n",
        "        filenoend = file.split(\".\")[0]\n",
        "\n",
        "        src = cv2.imread(filename)   \n",
        "        #print(src.shape)  \n",
        "        src = cv2.resize(src, (256,256))\n",
        "        original = src.copy()\n",
        "        imshow(cv2.resize(src, (256,256)))\n",
        "\n",
        "        gray = cv2.cvtColor(src, cv2.COLOR_BGR2GRAY)\n",
        "\n",
        "        (thresh, bin) = cv2.threshold(gray, 128, 255, cv2.THRESH_BINARY | cv2.THRESH_OTSU)\n",
        "        \n",
        "        boxes = open(2, bin)#seperate_bin_areas(open, 2, bin, 0)\n",
        "        \n",
        "        for box in boxes:\n",
        "            cv2.rectangle(src,(box[0],box[1]),(box[2],box[3]),(200,0,0),2) #Draw rectangle boundingbox\n",
        "        imshow(cv2.resize(src, (256,256)))\n",
        "        \n",
        "        print(len(boxes))\n",
        "        for idx, box in enumerate(boxes):\n",
        "              im = original[box[1]:box[3],box[0]:box[2]]\n",
        "              imshow(cv2.resize(im, (64,64)))\n",
        "              if(len(boxes)==5):\n",
        "                cv2.imwrite(\"/content/singledice/\"+str(idx) + \"_\" + str(filenoend) + \".jpg\", im)"
      ],
      "execution_count": null,
      "outputs": []
    },
    {
      "cell_type": "markdown",
      "metadata": {
        "id": "i01P1sLLWjlV"
      },
      "source": [
        "CV2 Find Contours - If opening and closing is not seperating wel"
      ]
    },
    {
      "cell_type": "code",
      "metadata": {
        "id": "78vnw_3aMLjK",
        "colab": {
          "base_uri": "https://localhost:8080/",
          "height": 34
        },
        "outputId": "a2efaef9-e95a-4f8d-c5e7-89fe0069294b"
      },
      "source": [
        "#!zip -r /content/singledice.zip /content/singledice\n",
        "\n",
        "#from google.colab import files\n",
        "#files.download(\"/content/singledice.zip\")"
      ],
      "execution_count": null,
      "outputs": [
        {
          "output_type": "display_data",
          "data": {
            "application/javascript": [
              "\n",
              "    async function download(id, filename, size) {\n",
              "      if (!google.colab.kernel.accessAllowed) {\n",
              "        return;\n",
              "      }\n",
              "      const div = document.createElement('div');\n",
              "      const label = document.createElement('label');\n",
              "      label.textContent = `Downloading \"${filename}\": `;\n",
              "      div.appendChild(label);\n",
              "      const progress = document.createElement('progress');\n",
              "      progress.max = size;\n",
              "      div.appendChild(progress);\n",
              "      document.body.appendChild(div);\n",
              "\n",
              "      const buffers = [];\n",
              "      let downloaded = 0;\n",
              "\n",
              "      const channel = await google.colab.kernel.comms.open(id);\n",
              "      // Send a message to notify the kernel that we're ready.\n",
              "      channel.send({})\n",
              "\n",
              "      for await (const message of channel.messages) {\n",
              "        // Send a message to notify the kernel that we're ready.\n",
              "        channel.send({})\n",
              "        if (message.buffers) {\n",
              "          for (const buffer of message.buffers) {\n",
              "            buffers.push(buffer);\n",
              "            downloaded += buffer.byteLength;\n",
              "            progress.value = downloaded;\n",
              "          }\n",
              "        }\n",
              "      }\n",
              "      const blob = new Blob(buffers, {type: 'application/binary'});\n",
              "      const a = document.createElement('a');\n",
              "      a.href = window.URL.createObjectURL(blob);\n",
              "      a.download = filename;\n",
              "      div.appendChild(a);\n",
              "      a.click();\n",
              "      div.remove();\n",
              "    }\n",
              "  "
            ],
            "text/plain": [
              "<IPython.core.display.Javascript object>"
            ]
          },
          "metadata": {}
        },
        {
          "output_type": "display_data",
          "data": {
            "application/javascript": [
              "download(\"download_6539de7c-57f9-47d1-a3fa-229be1943232\", \"singledice.zip\", 1423906)"
            ],
            "text/plain": [
              "<IPython.core.display.Javascript object>"
            ]
          },
          "metadata": {}
        }
      ]
    },
    {
      "cell_type": "code",
      "metadata": {
        "id": "hZqzxq_vWyLY"
      },
      "source": [
        "# import the necessary packages\n",
        "import numpy as np\n",
        "# Malisiewicz et al.\n",
        "def non_max_suppression_fast(boxes, overlapThresh):\n",
        "\t# if there are no boxes, return an empty list\n",
        "\tif len(boxes) == 0:\n",
        "\t\treturn []\n",
        "\t# if the bounding boxes integers, convert them to floats --\n",
        "\t# this is important since we'll be doing a bunch of divisions\n",
        "\tif boxes.dtype.kind == \"i\":\n",
        "\t\tboxes = boxes.astype(\"float\")\n",
        "\t# initialize the list of picked indexes\t\n",
        "\tpick = []\n",
        "\t# grab the coordinates of the bounding boxes\n",
        "\tx1 = boxes[:,0]\n",
        "\ty1 = boxes[:,1]\n",
        "\tx2 = boxes[:,2]\n",
        "\ty2 = boxes[:,3]\n",
        "\t# compute the area of the bounding boxes and sort the bounding\n",
        "\t# boxes by the bottom-right y-coordinate of the bounding box\n",
        "\tarea = (x2 - x1 + 1) * (y2 - y1 + 1)\n",
        "\tidxs = np.argsort(y2)\n",
        "\t#print(x1, y1, x2, y2)\n",
        "\t# keep looping while some indexes still remain in the indexes\n",
        "\t# list\n",
        "\twhile len(idxs) > 0:\n",
        "\t\t# grab the last index in the indexes list and add the\n",
        "\t\t# index value to the list of picked indexes\n",
        "\t\tlast = len(idxs) - 1\n",
        "\t\ti = idxs[last]\n",
        "\t\tpick.append(i)\n",
        "\t\t# find the largest (x, y) coordinates for the start of\n",
        "\t\t# the bounding box and the smallest (x, y) coordinates\n",
        "\t\t# for the end of the bounding box\n",
        "\t\txx1 = np.maximum(x1[i], x1[idxs[:last]])\n",
        "\t\tyy1 = np.maximum(y1[i], y1[idxs[:last]])\n",
        "\t\txx2 = np.minimum(x2[i], x2[idxs[:last]])\n",
        "\t\tyy2 = np.minimum(y2[i], y2[idxs[:last]])\n",
        "\t\t# compute the width and height of the bounding box\n",
        "\t\tw = np.maximum(0, xx2 - xx1 + 1)\n",
        "\t\th = np.maximum(0, yy2 - yy1 + 1)\n",
        "\t\t# compute the ratio of overlap\n",
        "\t\toverlap = (w * h) / area[idxs[:last]]\n",
        "\t\t# delete all indexes from the index list that have\n",
        "\t\tidxs = np.delete(idxs, np.concatenate(([last],\n",
        "\t\t\tnp.where(overlap > overlapThresh)[0])))\n",
        "\t# return only the bounding boxes that were picked using the\n",
        "\t# integer data type\n",
        "\treturn boxes[pick].astype(\"int\")"
      ],
      "execution_count": null,
      "outputs": []
    },
    {
      "cell_type": "code",
      "metadata": {
        "id": "rUxvRGiQd70J"
      },
      "source": [
        "def roi_by_contours(base_img):\n",
        "  contours, hierarchy = cv2.findContours(base_img,cv2.RETR_LIST,cv2.CHAIN_APPROX_SIMPLE)\n",
        "  i = 0\n",
        "  boxes = []\n",
        "  for cnt in contours:\n",
        "      i += 1\n",
        "      x,y,w,h = cv2.boundingRect(cnt)\n",
        "      roi = src[y:y+h,x:x+w]\n",
        "      boxes.append([x,y,x+w,y+h])\n",
        "        #imshow(cv2.resize(roi, (128,128)))\n",
        "      #cv2.imwrite(\"/content/\"+str(idx) + '.jpg', roi) #Persist roi\n",
        "      #cv2.rectangle(im,(x,y),(x+w,y+h),(200,0,0),2) #Draw rectangle boundingbox\n",
        "  return boxes"
      ],
      "execution_count": null,
      "outputs": []
    },
    {
      "cell_type": "code",
      "metadata": {
        "id": "psV9W7B5XrTD"
      },
      "source": [
        "def get_boxes_by_contours(src_img):\n",
        "  gray = cv2.cvtColor(src_img, cv2.COLOR_BGR2GRAY)\n",
        "\n",
        "  (thresh, bin) = cv2.threshold(gray, 128, 255, cv2.THRESH_BINARY | cv2.THRESH_OTSU)\n",
        "\n",
        "  canny_bin = cv2.Canny(bin, 50, 200, None, 3)\n",
        "\n",
        "  boxes = roi(canny_bin)\n",
        "\n",
        "  one_eye = cv2.imread(r\"/content/ref.png\")\n",
        "  #boxes = remove_unwanted(boxes, one_eye, thresh=0.8)\n",
        "\n",
        "  boxes = remove_duplicates(boxes)\n",
        "  boxes = remove_inlayer(boxes)\n",
        "\n",
        "  return boxes"
      ],
      "execution_count": null,
      "outputs": []
    },
    {
      "cell_type": "code",
      "metadata": {
        "id": "KYMpHreu66h-"
      },
      "source": [
        "#remove exact duplicates\n",
        "def remove_duplicates(boxes):\n",
        "  duplicates = 0\n",
        "  for idx1, box1 in enumerate(boxes):\n",
        "    for idx2, box2 in enumerate(boxes):\n",
        "      if(idx1 != idx2 and box1[0] == box2[0] and box1[1] == box2[1] and box1[2] == box2[2] and box1[3] == box2[3]):\n",
        "        boxes.remove(box2)\n",
        "        duplicates += 1\n",
        "  return boxes\n",
        "  #print(\"removed \"+str(duplicates)+\" duplicate pictures\")\n",
        "  \n",
        "#Remove real Containings\n",
        "def remove_inlayer(boxes):\n",
        "  found = True\n",
        "  while found:\n",
        "    found = False\n",
        "    for box1 in boxes:\n",
        "      for box2 in boxes:\n",
        "        #box1.x1 < box2.x1 and box1.x2 > box2.x2  \n",
        "        #box1.y1 < box2.y1 and box1.y2 > box2.y2\n",
        "          if(box1!=box2 and box1[0]<=box2[0] and box1[2]>=box2[2] and box1[1]<=box2[1] and box1[3]>=box2[3]):\n",
        "            boxes.remove(box2)\n",
        "            found = True\n",
        "  return boxes"
      ],
      "execution_count": null,
      "outputs": []
    },
    {
      "cell_type": "code",
      "metadata": {
        "id": "vLZEJNP9Wh2D",
        "colab": {
          "base_uri": "https://localhost:8080/",
          "height": 235
        },
        "outputId": "0a1e863e-e211-4000-b00d-aaa758009eb6"
      },
      "source": [
        "import os\n",
        "\n",
        "basedir = r\"/content/images/simple\"\n",
        "for file in os.listdir(basedir):\n",
        "    if file.endswith(\".jpg\"):\n",
        "        filename = os.path.join(basedir, file)\n",
        "        filenoend = filename.split(\".\")[0]\n",
        "\n",
        "        src = cv2.imread(filename)   \n",
        "        original = src.copy()\n",
        "        imshow(cv2.resize(src, (256,256)))\n",
        "\n",
        "        boxes = get_boxes_by_contours(src)\n",
        "        if(len(boxes)>5):\n",
        "          boxes = non_max_suppression_fast(np.array(boxes), 0.8)\n",
        "        \n",
        "        print(len(boxes))\n",
        "        for idx, box in enumerate(boxes):\n",
        "              im = src[box[1]:box[3],box[0]:box[2]]\n",
        "              imshow(cv2.resize(im, (64,64)))\n",
        "              #cv2.imwrite(\"/content/rois/\"+str(idx) + \"_\" + str(filenoend) + \".jpg\", im)"
      ],
      "execution_count": null,
      "outputs": [
        {
          "output_type": "error",
          "ename": "AttributeError",
          "evalue": "ignored",
          "traceback": [
            "\u001b[0;31m---------------------------------------------------------------------------\u001b[0m",
            "\u001b[0;31mAttributeError\u001b[0m                            Traceback (most recent call last)",
            "\u001b[0;32m<ipython-input-21-8ff1c8ad9a23>\u001b[0m in \u001b[0;36m<module>\u001b[0;34m()\u001b[0m\n\u001b[1;32m      7\u001b[0m \u001b[0;34m\u001b[0m\u001b[0m\n\u001b[1;32m      8\u001b[0m         \u001b[0msrc\u001b[0m \u001b[0;34m=\u001b[0m \u001b[0mcv2\u001b[0m\u001b[0;34m.\u001b[0m\u001b[0mimread\u001b[0m\u001b[0;34m(\u001b[0m\u001b[0mfilename\u001b[0m\u001b[0;34m)\u001b[0m\u001b[0;34m\u001b[0m\u001b[0;34m\u001b[0m\u001b[0m\n\u001b[0;32m----> 9\u001b[0;31m         \u001b[0moriginal\u001b[0m \u001b[0;34m=\u001b[0m \u001b[0msrc\u001b[0m\u001b[0;34m.\u001b[0m\u001b[0mcopy\u001b[0m\u001b[0;34m(\u001b[0m\u001b[0;34m)\u001b[0m\u001b[0;34m\u001b[0m\u001b[0;34m\u001b[0m\u001b[0m\n\u001b[0m\u001b[1;32m     10\u001b[0m         \u001b[0mimshow\u001b[0m\u001b[0;34m(\u001b[0m\u001b[0mcv2\u001b[0m\u001b[0;34m.\u001b[0m\u001b[0mresize\u001b[0m\u001b[0;34m(\u001b[0m\u001b[0msrc\u001b[0m\u001b[0;34m,\u001b[0m \u001b[0;34m(\u001b[0m\u001b[0;36m256\u001b[0m\u001b[0;34m,\u001b[0m\u001b[0;36m256\u001b[0m\u001b[0;34m)\u001b[0m\u001b[0;34m)\u001b[0m\u001b[0;34m)\u001b[0m\u001b[0;34m\u001b[0m\u001b[0;34m\u001b[0m\u001b[0m\n\u001b[1;32m     11\u001b[0m \u001b[0;34m\u001b[0m\u001b[0m\n",
            "\u001b[0;31mAttributeError\u001b[0m: 'NoneType' object has no attribute 'copy'"
          ]
        }
      ]
    },
    {
      "cell_type": "code",
      "metadata": {
        "colab": {
          "base_uri": "https://localhost:8080/"
        },
        "id": "4HCRy7rtW1qx",
        "outputId": "19f41bfa-9d58-40cd-a856-fa40d8389bcd"
      },
      "source": [
        "import numpy as np\n",
        "boxes = np.array(boxes)\n",
        "new_boxes = non_max_suppression_fast(boxes, 0.1)\n",
        "print(len(new_boxes))\n",
        "print(len(boxes))"
      ],
      "execution_count": null,
      "outputs": [
        {
          "output_type": "stream",
          "name": "stdout",
          "text": [
            "5\n",
            "5\n"
          ]
        }
      ]
    },
    {
      "cell_type": "code",
      "metadata": {
        "colab": {
          "base_uri": "https://localhost:8080/",
          "height": 136
        },
        "id": "urLRIpJx3Z3j",
        "outputId": "00631626-6c46-415f-cc75-d62c006a6c6e"
      },
      "source": [
        "for box in boxes:\n",
        "  imshow(src[box[1]:box[3],box[0]:box[2]])"
      ],
      "execution_count": null,
      "outputs": [
        {
          "output_type": "display_data",
          "data": {
            "image/png": "[encoded data removed]",
            "text/plain": [
              "<PIL.Image.Image image mode=RGB size=21x23 at 0x7F2C4EA03850>"
            ]
          },
          "metadata": {}
        },
        {
          "output_type": "display_data",
          "data": {
            "image/png": "[encoded data removed]",
            "text/plain": [
              "<PIL.Image.Image image mode=RGB size=24x24 at 0x7F2C4EA5F450>"
            ]
          },
          "metadata": {}
        },
        {
          "output_type": "display_data",
          "data": {
            "image/png": "[encoded data removed]",
            "text/plain": [
              "<PIL.Image.Image image mode=RGB size=26x25 at 0x7F2C4EA5FB50>"
            ]
          },
          "metadata": {}
        },
        {
          "output_type": "display_data",
          "data": {
            "image/png": "[encoded data removed]",
            "text/plain": [
              "<PIL.Image.Image image mode=RGB size=24x23 at 0x7F2C4EA5F450>"
            ]
          },
          "metadata": {}
        },
        {
          "output_type": "display_data",
          "data": {
            "image/png": "[encoded data removed]",
            "text/plain": [
              "<PIL.Image.Image image mode=RGB size=24x24 at 0x7F2C4EA5FB50>"
            ]
          },
          "metadata": {}
        }
      ]
    },
    {
      "cell_type": "code",
      "metadata": {
        "id": "uw8KJuy1MT9Z"
      },
      "source": [
        "src = cv2.imread(\"/content/images/simple/IMG_20211121_215151.jpg\")   \n",
        "print(src.shape)\n",
        "src = cv2.resize(src, (256,256))\n",
        "original = src.copy()\n",
        "imshow(cv2.resize(src, (256,256)))\n",
        "\n",
        "gray = cv2.cvtColor(src, cv2.COLOR_BGR2GRAY)\n",
        "\n",
        "(thresh, bin) = cv2.threshold(gray, 128, 255, cv2.THRESH_BINARY | cv2.THRESH_OTSU)\n",
        "imshow(bin)\n",
        "imshow(open(2, bin))\n",
        "boxes = seperate_bin_areas(open, 2, bin, 0)\n",
        "\n",
        "for box in boxes:\n",
        "    cv2.rectangle(src,(box[0],box[1]),(box[2],box[3]),(200,0,0),2) #Draw rectangle boundingbox\n",
        "imshow(cv2.resize(src, (256,256)))\n",
        "\n",
        "print(len(boxes))\n",
        "for idx, box in enumerate(boxes):\n",
        "      im = original[box[1]:box[3],box[0]:box[2]]\n",
        "      imshow(cv2.resize(im, (64,64)))"
      ],
      "execution_count": null,
      "outputs": []
    },
    {
      "cell_type": "markdown",
      "source": [
        "# IoU"
      ],
      "metadata": {
        "id": "jttOfwUXvt1v"
      }
    },
    {
      "cell_type": "code",
      "source": [
        "# import the necessary packages\n",
        "import numpy as np\n",
        "import cv2\n",
        "\n",
        "# Calculate IoU for every Boundingbox for every GroundTruth; 5x5 \n",
        "def bb_intersection_over_union(boxA, boxB):\n",
        "    # determine the (x, y)-coordinates of the intersection rectangle\n",
        "    xA = max(boxA[0], boxB[0])\n",
        "    yA = max(boxA[1], boxB[1])\n",
        "    xB = min(boxA[2], boxB[2])\n",
        "    yB = min(boxA[3], boxB[3])\n",
        "\n",
        "    # compute the area of intersection rectangle\n",
        "    interArea = (xB - xA) * (yB - yA)\n",
        "\n",
        "    # compute the area of both the prediction and ground-truth\n",
        "    # rectangles\n",
        "    boxAArea = (boxA[2] - boxA[0]) * (boxA[3] - boxA[1])\n",
        "    boxBArea = (boxB[2] - boxB[0]) * (boxB[3] - boxB[1])\n",
        "\n",
        "    # compute the intersection over union by taking the intersection\n",
        "    # area and dividing it by the sum of prediction + ground-truth\n",
        "    # areas - the interesection area\n",
        "    iou = interArea / float(boxAArea + boxBArea - interArea)\n",
        "\n",
        "    # return the intersection over union value\n",
        "    return iou"
      ],
      "metadata": {
        "id": "xA46o0p3Ha9x"
      },
      "execution_count": null,
      "outputs": []
    },
    {
      "cell_type": "code",
      "source": [
        ""
      ],
      "metadata": {
        "id": "_6rfzC6VvvxB"
      },
      "execution_count": null,
      "outputs": []
    }
  ]
}